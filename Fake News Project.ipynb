{
 "cells": [
  {
   "cell_type": "code",
   "execution_count": 1,
   "metadata": {},
   "outputs": [],
   "source": [
    "#Necessary Imports \n",
    "\n",
    "import numpy as np\n",
    "import pandas as pd\n",
    "import itertools\n",
    "from sklearn.model_selection import train_test_split\n",
    "from sklearn.feature_extraction.text import TfidfVectorizer\n",
    "from sklearn.linear_model import PassiveAggressiveClassifier\n",
    "from sklearn.metrics import accuracy_score, confusion_matrix"
   ]
  },
  {
   "cell_type": "markdown",
   "metadata": {},
   "source": [
    "# Basic EDA"
   ]
  },
  {
   "cell_type": "code",
   "execution_count": 2,
   "metadata": {},
   "outputs": [
    {
     "name": "stdout",
     "output_type": "stream",
     "text": [
      "The total number of elements in the dataframe : 25340\n",
      "The number of rows and columns in the dataframe are : (6335, 4)\n"
     ]
    },
    {
     "data": {
      "text/html": [
       "<div>\n",
       "<style scoped>\n",
       "    .dataframe tbody tr th:only-of-type {\n",
       "        vertical-align: middle;\n",
       "    }\n",
       "\n",
       "    .dataframe tbody tr th {\n",
       "        vertical-align: top;\n",
       "    }\n",
       "\n",
       "    .dataframe thead th {\n",
       "        text-align: right;\n",
       "    }\n",
       "</style>\n",
       "<table border=\"1\" class=\"dataframe\">\n",
       "  <thead>\n",
       "    <tr style=\"text-align: right;\">\n",
       "      <th></th>\n",
       "      <th>Unnamed: 0</th>\n",
       "      <th>title</th>\n",
       "      <th>text</th>\n",
       "      <th>label</th>\n",
       "    </tr>\n",
       "  </thead>\n",
       "  <tbody>\n",
       "    <tr>\n",
       "      <th>0</th>\n",
       "      <td>8476</td>\n",
       "      <td>You Can Smell Hillary’s Fear</td>\n",
       "      <td>Daniel Greenfield, a Shillman Journalism Fello...</td>\n",
       "      <td>FAKE</td>\n",
       "    </tr>\n",
       "    <tr>\n",
       "      <th>1</th>\n",
       "      <td>10294</td>\n",
       "      <td>Watch The Exact Moment Paul Ryan Committed Pol...</td>\n",
       "      <td>Google Pinterest Digg Linkedin Reddit Stumbleu...</td>\n",
       "      <td>FAKE</td>\n",
       "    </tr>\n",
       "    <tr>\n",
       "      <th>2</th>\n",
       "      <td>3608</td>\n",
       "      <td>Kerry to go to Paris in gesture of sympathy</td>\n",
       "      <td>U.S. Secretary of State John F. Kerry said Mon...</td>\n",
       "      <td>REAL</td>\n",
       "    </tr>\n",
       "    <tr>\n",
       "      <th>3</th>\n",
       "      <td>10142</td>\n",
       "      <td>Bernie supporters on Twitter erupt in anger ag...</td>\n",
       "      <td>— Kaydee King (@KaydeeKing) November 9, 2016 T...</td>\n",
       "      <td>FAKE</td>\n",
       "    </tr>\n",
       "    <tr>\n",
       "      <th>4</th>\n",
       "      <td>875</td>\n",
       "      <td>The Battle of New York: Why This Primary Matters</td>\n",
       "      <td>It's primary day in New York and front-runners...</td>\n",
       "      <td>REAL</td>\n",
       "    </tr>\n",
       "  </tbody>\n",
       "</table>\n",
       "</div>"
      ],
      "text/plain": [
       "   Unnamed: 0                                              title  \\\n",
       "0        8476                       You Can Smell Hillary’s Fear   \n",
       "1       10294  Watch The Exact Moment Paul Ryan Committed Pol...   \n",
       "2        3608        Kerry to go to Paris in gesture of sympathy   \n",
       "3       10142  Bernie supporters on Twitter erupt in anger ag...   \n",
       "4         875   The Battle of New York: Why This Primary Matters   \n",
       "\n",
       "                                                text label  \n",
       "0  Daniel Greenfield, a Shillman Journalism Fello...  FAKE  \n",
       "1  Google Pinterest Digg Linkedin Reddit Stumbleu...  FAKE  \n",
       "2  U.S. Secretary of State John F. Kerry said Mon...  REAL  \n",
       "3  — Kaydee King (@KaydeeKing) November 9, 2016 T...  FAKE  \n",
       "4  It's primary day in New York and front-runners...  REAL  "
      ]
     },
     "execution_count": 2,
     "metadata": {},
     "output_type": "execute_result"
    }
   ],
   "source": [
    "#Read the data\n",
    "df=pd.read_csv('news.csv')\n",
    "\n",
    "#Get shape and head\n",
    "print(\"The total number of elements in the dataframe :\",(df.size))\n",
    "print(\"The number of rows and columns in the dataframe are : \"+str(df.shape))\n",
    "df.head()"
   ]
  },
  {
   "cell_type": "code",
   "execution_count": 3,
   "metadata": {},
   "outputs": [
    {
     "data": {
      "text/plain": [
       "0    FAKE\n",
       "1    FAKE\n",
       "2    REAL\n",
       "3    FAKE\n",
       "4    REAL\n",
       "Name: label, dtype: object"
      ]
     },
     "execution_count": 3,
     "metadata": {},
     "output_type": "execute_result"
    }
   ],
   "source": [
    "#Fetching labels from the dataframe\n",
    "labels=df.label\n",
    "labels.head()"
   ]
  },
  {
   "cell_type": "markdown",
   "metadata": {},
   "source": [
    "# Dataset Preparation - Train-Test Split"
   ]
  },
  {
   "cell_type": "code",
   "execution_count": 4,
   "metadata": {},
   "outputs": [],
   "source": [
    "#Splitting the data into training data and testing data \n",
    "x_train,x_test,y_train,y_test=train_test_split(df['text'], labels, test_size=0.3, random_state=42)"
   ]
  },
  {
   "cell_type": "code",
   "execution_count": 5,
   "metadata": {},
   "outputs": [
    {
     "data": {
      "text/plain": [
       "2771    After months of uncertainty, Donald Trump has ...\n",
       "6049    25 Views November 10, 2016 GOLD , KWN King Wor...\n",
       "731     Trump proposals that seem startling now – such...\n",
       "5835    Holed up in Saudi Arabia, the inner circle of ...\n",
       "291     Pro-Palestinian Propaganda Lowering Standards ...\n",
       "4593    These are some of the dead and missing in Tues...\n",
       "184     On Monday, I made the case that Al Gore should...\n",
       "4983    Black Female Attorney Demolishes anti-Trump Wh...\n",
       "4584    The chairman of the House Foreign Relations Co...\n",
       "3362    A top GOP leader is calling the meeting betwee...\n",
       "533     WASHINGTON —Two Capitol Hill panels that polic...\n",
       "1671    Tuesday, 1 November 2016 Kim Kardashian: The Q...\n",
       "2611    Washington (CNN) Mitch McConnell is the Senate...\n",
       "3613    Man uses Trump victory as excuse to call ex-gi...\n",
       "2233    Israel Prime Minister Benjamin Netanyahu took ...\n",
       "2375    The Democratic party moved a lot closer to cho...\n",
       "5070    Donald Trump took to Twitter Saturday morning ...\n",
       "657     Store Guardian Front Page: “A 16-Year-Old Migr...\n",
       "1255    The Most Interesting Chart In The World - Part...\n",
       "2921    There’s something seriously wrong with this wo...\n",
       "4347    MOSCOW — Russia's capital city was reeling Sat...\n",
       "2812    Donald Trump won convincing victories Tuesday ...\n",
       "3973    November 11, 2016 Trump: Israel is a ray of ho...\n",
       "2941    As many have already observed, one of the big ...\n",
       "898       As Crooked HIllary Investigation Reopens, De...\n",
       "6298    (CNN) Hillary Clinton forced Donald Trump onto...\n",
       "428     Tweet Widget by BAR managing editor Bruce A. D...\n",
       "5733    Warren, a hero of progressive Democrats, is th...\n",
       "3921    The Washington Post reported: Donald Trump’s h...\n",
       "4949    Topics: Twitter , Pies Wednesday, 26 October 2...\n",
       "                              ...                        \n",
       "2904    Waking Times \\nMore evidence emerges that a cu...\n",
       "4843    Jews in Ben Gurion Airport were dismayed to di...\n",
       "4117    Millions of American Catholics, like me, are e...\n",
       "3385    WATCH: Human Rights Activists Are Targeting Th...\n",
       "4555    November 2, 2016 Networks Continue to Ignore O...\n",
       "1184    Republican presidential frontrunner Donald Tru...\n",
       "5051    More Election Coverage Nation Elects First Bla...\n",
       "5311    \"I have no interest in sitting down with our a...\n",
       "2433    DNC Renews Lawsuit Against RNC Over Voter Inti...\n",
       "5611    On this day in 1973, J. Fred Buzhardt, a lawye...\n",
       "2391    Hillary Clinton publicly conceded the U.S. pre...\n",
       "769     President Barack Obama on Tuesday addressed th...\n",
       "1685    Planned Parenthood: Abortion pill usage now ri...\n",
       "130     Two days after Supreme Court Justice Antonin S...\n",
       "2919    \\nA gravely written Ministry of Defense ( MoD ...\n",
       "3171    In 2015, Vox talked to Secretary Perez about h...\n",
       "3444    Ben Carson has had a very strange couple of we...\n",
       "6231    in: Politics , Sleuth Journal , Special Intere...\n",
       "5578    Print \\nOf all the weeks to turn in a late Fol...\n",
       "4426    President Barack Obama gave a statement Thursd...\n",
       "5334    President Barack Obama on Sunday encouraged pa...\n",
       "466     First, let us get the known but essential deta...\n",
       "6265    VIDEO : FBI SOURCES SAY INDICTMENT LIKELY FOR ...\n",
       "5734    Friend from university is an arse now 31-10-16...\n",
       "3092    Leave a reply \\nJon Rappoport – Arianna Stassi...\n",
       "3772    What happened was less a debate among contende...\n",
       "5191    Clinton, FBIGate and the true depth of the Oba...\n",
       "5226    Fearing Election Day Trouble, Some US Schools ...\n",
       "5390    President Obama’s appearance at a town hall me...\n",
       "860     A man protests against international trade agr...\n",
       "Name: text, Length: 4434, dtype: object"
      ]
     },
     "execution_count": 5,
     "metadata": {},
     "output_type": "execute_result"
    }
   ],
   "source": [
    "#testing to see if we have got training dataset\n",
    "x_train"
   ]
  },
  {
   "cell_type": "code",
   "execution_count": 6,
   "metadata": {},
   "outputs": [
    {
     "data": {
      "text/plain": [
       "1357    Will Trump pull a Brexit times ten? What would...\n",
       "2080    Clintons Are Under Multiple FBI Investigations...\n",
       "2718    Dispatches from Eric Zuesse This piece is cros...\n",
       "812     Print \\n[Ed. – Every now and then the facade c...\n",
       "4886    Nanny In Jail After Force Feeding Baby To Deat...\n",
       "4890    By Belén Fernández | FAIR PHOTO ABOVE: Hillary...\n",
       "4714    The words, when they came, had lost no power o...\n",
       "1782    By Amanda Froelich It should be evident if you...\n",
       "2445    A white police officer in North Charleston, S....\n",
       "3574    Tony Blair helpfully describes Remain voters a...\n",
       "4827    0 comments GOP VP candidate Mike Pence’s Trump...\n",
       "3995    Clinton lost her temper at an event on Thursda...\n",
       "318     House Speaker Paul D. Ryan attempted to lift t...\n",
       "2728    The Washington Post \\nExcerpts: Once prohibite...\n",
       "2170    Project Veritas 4: Robert Creamer's Illegal $2...\n",
       "4431    Miss Russia AFP/East News \\nMiss Russia Alisa ...\n",
       "217     On September 5, 2006, Eli Chomsky was an edito...\n",
       "5718    Let us be clear: Republicans in the Senate are...\n",
       "2414    October 28, 2016 Susan Rice: U.S. Must Integra...\n",
       "5146    You are here: Home / US / DISGUSTING Evolution...\n",
       "543     Vanessa Tijerina was not politically active un...\n",
       "381     Programming Alert:Tune in to the FOX Business ...\n",
       "794     (Before It's News)\\nWhat is Vitamin E? Vitamin...\n",
       "5838    Share on Twitter \\nNearly every day, Kathleen ...\n",
       "5194    French warplanes launched a ferocious retaliat...\n",
       "2680    Home | World | Shameful Obama Legacy: White Ma...\n",
       "3308    More Election Coverage New Heavy-Duty Voting M...\n",
       "2031    Posted on October 27, 2016 by Melissa Dykes \\n...\n",
       "3626    Home This Month Popular Is Western Civilizatio...\n",
       "132     \"I don't think he understands very well the si...\n",
       "                              ...                        \n",
       "95      link There is simply no more denying, for mill...\n",
       "3125    We Are Change \\nNorth Dakota had nearly 300 oi...\n",
       "4362    The poll, conducted from Monday to Friday, sho...\n",
       "5091    Tweet (Image via intoday.in) \\nJust as the Ind...\n",
       "842     The election in 232 photos, 43 numbers and 131...\n",
       "1595    The roster of speakers at the convention to of...\n",
       "3323    Nation Puts 2016 Election Into Perspective By ...\n",
       "2166    Rank-and-file Democrats and independents are c...\n",
       "3593    By Stephen Lendman\\nVenezuela’s oil-dependent ...\n",
       "6005    Ballot stuffing by fat obese feminazis Caught ...\n",
       "5760    As Harris lay struggling and dying, he told th...\n",
       "5548    Scientists have heard unusual messages from de...\n",
       "3491    By Martin Winiecki / kosmosjournal.org \\nIn th...\n",
       "6229    Every Monday, Fox News contributor Karl Rove w...\n",
       "2118    in: General Health , Medical & Health , Sleuth...\n",
       "4819    The mass shooting in Orlando, Florida, Sunday ...\n",
       "1874    The 2016 presidential election is shaping up a...\n",
       "322     This underwater lake is actually helping scien...\n",
       "1756    Breitbart – by Deborah Danan \\nTEL AVIV – Dona...\n",
       "1769    Home › POLITICS | US NEWS › TRIGGERED: JOURNAL...\n",
       "4591    Email \\nLeading Republican presidential hopefu...\n",
       "2406    Josh Fox on Dakota Access Pipeline Standoff: ‘...\n",
       "3547    As a long time observer of the political proce...\n",
       "334     New Yorkers fight to overturn ballot selfie ba...\n",
       "5155    An old saying asserts that falsehoods come in ...\n",
       "332     The revived Hillary Clinton email investigatio...\n",
       "833     \\n\\nWe have compiled a huge list of voter frau...\n",
       "5189    (Before It's News)\\nI'm about to be seriously ...\n",
       "5290    Tensions between the White House and Benjamin ...\n",
       "2927    Hillary Clinton was seen to help stabilize her...\n",
       "Name: text, Length: 1901, dtype: object"
      ]
     },
     "execution_count": 6,
     "metadata": {},
     "output_type": "execute_result"
    }
   ],
   "source": [
    "#testing to see if we have got testing dataset\n",
    "x_test"
   ]
  },
  {
   "cell_type": "markdown",
   "metadata": {},
   "source": [
    "# Removal of Stop Words & Vectorization"
   ]
  },
  {
   "cell_type": "code",
   "execution_count": 7,
   "metadata": {},
   "outputs": [],
   "source": [
    "#Initialize a TfidfVectorizer and removing stopwords like 'a,an,the,is,or' which are by default in the 'english'\n",
    "tfidf_vectorizer=TfidfVectorizer(stop_words='english', max_df=0.7)\n",
    "\n",
    "#Fit and transform train set, transform test set\n",
    "# We are using fit_transform on training data to centralize the data i.e. to have zero std error and mean and then use these objects (mu and sigma) to transform the testing data\n",
    "tfidf_train=tfidf_vectorizer.fit_transform(x_train) \n",
    "tfidf_test=tfidf_vectorizer.transform(x_test)"
   ]
  },
  {
   "cell_type": "code",
   "execution_count": 8,
   "metadata": {},
   "outputs": [
    {
     "name": "stdout",
     "output_type": "stream",
     "text": [
      "Accuracy: 93.79%\n"
     ]
    }
   ],
   "source": [
    "#Initializing the passive aggressive classifier with 50 iterations\n",
    "pac=PassiveAggressiveClassifier(max_iter=50)\n",
    "pac.fit(tfidf_train,y_train)\n",
    "\n",
    "#Predict on the test set and calculate accuracy\n",
    "y_pred=pac.predict(tfidf_test)\n",
    "score=accuracy_score(y_test,y_pred)\n",
    "print(f'Accuracy: {round(score*100,2)}%')"
   ]
  },
  {
   "cell_type": "markdown",
   "metadata": {},
   "source": [
    "# Final Results"
   ]
  },
  {
   "cell_type": "code",
   "execution_count": 9,
   "metadata": {},
   "outputs": [
    {
     "name": "stdout",
     "output_type": "stream",
     "text": [
      "[[910  58]\n",
      " [ 60 873]]\n",
      "----------------------------------------------------------------\n",
      "The number of confirmed fake news is : 910\n",
      "The number of confirmed real news is : 873\n",
      "The number of real news wrongly classified as fake news is : 60\n",
      "The number of fake news wrongly classified as real news is : 58\n"
     ]
    }
   ],
   "source": [
    "# Creating an error matrix to find true positives,true negatives,false positives and false negatives\n",
    "a=confusion_matrix(y_test,y_pred, labels=['FAKE','REAL'])\n",
    "\n",
    "print(a)\n",
    "\n",
    "print(\"----------------------------------------------------------------\")\n",
    "print(\"The number of confirmed fake news is :\" , a[0][0])\n",
    "print(\"The number of confirmed real news is :\" , a[1][1])\n",
    "print(\"The number of real news wrongly classified as fake news is :\" , a[1][0])\n",
    "print(\"The number of fake news wrongly classified as real news is :\" , a[0][1])\n"
   ]
  }
 ],
 "metadata": {
  "kernelspec": {
   "display_name": "Python 3",
   "language": "python",
   "name": "python3"
  },
  "language_info": {
   "codemirror_mode": {
    "name": "ipython",
    "version": 3
   },
   "file_extension": ".py",
   "mimetype": "text/x-python",
   "name": "python",
   "nbconvert_exporter": "python",
   "pygments_lexer": "ipython3",
   "version": "3.7.3"
  }
 },
 "nbformat": 4,
 "nbformat_minor": 2
}
